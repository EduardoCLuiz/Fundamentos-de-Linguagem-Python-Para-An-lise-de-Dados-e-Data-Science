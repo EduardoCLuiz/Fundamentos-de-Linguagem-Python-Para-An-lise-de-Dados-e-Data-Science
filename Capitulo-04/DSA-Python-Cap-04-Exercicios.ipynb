{
 "cells": [
  {
   "cell_type": "markdown",
   "metadata": {},
   "source": [
    "## <font color='Red'>Fundamentos de Linguagem Python Para Análise de Dados e Data Science</font>\n",
    "\n",
    "## <font color='Red'>Capítulo 4 - Exercícios</font>"
   ]
  },
  {
   "cell_type": "markdown",
   "metadata": {},
   "source": [
    "## Exercícios "
   ]
  },
  {
   "cell_type": "code",
   "execution_count": 2,
   "metadata": {},
   "outputs": [],
   "source": [
    "# Exercício 1 - Imprima na tela os números de 1 a 10. Use uma lista para armazenar os números."
   ]
  },
  {
   "cell_type": "code",
   "execution_count": 49,
   "metadata": {},
   "outputs": [
    {
     "name": "stdout",
     "output_type": "stream",
     "text": [
      "[(1, 2, 3, 4, 5, 6, 7, 8, 9, 10)]\n"
     ]
    }
   ],
   "source": [
    "# Exercício 1\n",
    "\n",
    "num = 1,2,3,4,5,6,7,8,9,10\n",
    "lista = [num]\n",
    "print (lista)"
   ]
  },
  {
   "cell_type": "code",
   "execution_count": 3,
   "metadata": {},
   "outputs": [],
   "source": [
    "# Exercício 2 - Crie uma lista de 5 objetos e imprima na tela"
   ]
  },
  {
   "cell_type": "code",
   "execution_count": 50,
   "metadata": {},
   "outputs": [
    {
     "name": "stdout",
     "output_type": "stream",
     "text": [
      "[1, 'alho', 568, 'Feliz', 5.365]\n"
     ]
    }
   ],
   "source": [
    "# Exercício 2\n",
    "\n",
    "lista = [1, 'alho', 568, \"Feliz\", 5.365]\n",
    "print(lista)"
   ]
  },
  {
   "cell_type": "code",
   "execution_count": 4,
   "metadata": {},
   "outputs": [],
   "source": [
    "# Exercício 3 - Crie duas strings e concatene as duas em uma terceira string"
   ]
  },
  {
   "cell_type": "code",
   "execution_count": 48,
   "metadata": {},
   "outputs": [
    {
     "name": "stdout",
     "output_type": "stream",
     "text": [
      "Eduardo de Castro Luiz\n"
     ]
    }
   ],
   "source": [
    "# Exercício 3\n",
    "\n",
    "nome = 'Eduardo'\n",
    "sobrenome = ' de Castro Luiz'\n",
    "nome_completo = nome + sobrenome\n",
    "print(nome_completo)"
   ]
  },
  {
   "cell_type": "code",
   "execution_count": 5,
   "metadata": {},
   "outputs": [],
   "source": [
    "# Exercício 4 - Crie uma tupla com os seguintes elementos: 1, 2, 2, 3, 4, 4, 4, 5 e depois utilize a função count do \n",
    "# objeto tupla para verificar quantas vezes o número 4 aparece na tupla"
   ]
  },
  {
   "cell_type": "code",
   "execution_count": 45,
   "metadata": {},
   "outputs": [
    {
     "data": {
      "text/plain": [
       "3"
      ]
     },
     "execution_count": 45,
     "metadata": {},
     "output_type": "execute_result"
    }
   ],
   "source": [
    "# Exercício 4\n",
    "\n",
    "tupla = (1, 2, 2, 3, 4, 4, 4, 5)\n",
    "tupla.count(4)"
   ]
  },
  {
   "cell_type": "code",
   "execution_count": 6,
   "metadata": {},
   "outputs": [],
   "source": [
    "# Exercício 5 - Crie um dicionário vazio e imprima na tela"
   ]
  },
  {
   "cell_type": "code",
   "execution_count": 38,
   "metadata": {},
   "outputs": [
    {
     "name": "stdout",
     "output_type": "stream",
     "text": [
      "{}\n"
     ]
    }
   ],
   "source": [
    "# Exercício 5\n",
    "\n",
    "dict5 = {}\n",
    "print (dict5)"
   ]
  },
  {
   "cell_type": "code",
   "execution_count": 7,
   "metadata": {},
   "outputs": [],
   "source": [
    "# Exercício 6 - Crie um dicionário com 3 chaves e 3 valores e imprima na tela"
   ]
  },
  {
   "cell_type": "code",
   "execution_count": 39,
   "metadata": {},
   "outputs": [
    {
     "name": "stdout",
     "output_type": "stream",
     "text": [
      "{'chave1': 10}\n",
      "{'chave1': 10, 'chave2': 100}\n",
      "{'chave1': 10, 'chave2': 100, 'chave3': 1000}\n"
     ]
    }
   ],
   "source": [
    "# Exercício 6\n",
    "\n",
    "dict6 = {}\n",
    "dict6['chave1'] = 10\n",
    "print (dict6)\n",
    "dict6['chave2'] = 100\n",
    "print (dict6)\n",
    "dict6['chave3'] = 1000\n",
    "print (dict6)"
   ]
  },
  {
   "cell_type": "code",
   "execution_count": 8,
   "metadata": {},
   "outputs": [],
   "source": [
    "# Exercício 7 - Adicione mais um elemento ao dicionário criado no exercício anterior e imprima na tela"
   ]
  },
  {
   "cell_type": "code",
   "execution_count": 42,
   "metadata": {},
   "outputs": [
    {
     "name": "stdout",
     "output_type": "stream",
     "text": [
      "{'chave1': 10, 'chave2': 100, 'chave3': 1000, 'chave4': 10000}\n"
     ]
    }
   ],
   "source": [
    "# Exercício 7\n",
    "\n",
    "dict6['chave4'] = 10000\n",
    "print (dict6)"
   ]
  },
  {
   "cell_type": "code",
   "execution_count": 9,
   "metadata": {},
   "outputs": [],
   "source": [
    "# Exercício 8 - Crie um dicionário com 3 chaves e 3 valores. \n",
    "# Um dos valores deve ser uma lista de 2 elementos numéricos. \n",
    "# Imprima o dicionário na tela."
   ]
  },
  {
   "cell_type": "code",
   "execution_count": 37,
   "metadata": {},
   "outputs": [
    {
     "name": "stdout",
     "output_type": "stream",
     "text": [
      "{'Eduardo': 22}\n",
      "{'Eduardo': 22, 'Maria': 45}\n",
      "{'Eduardo': 22, 'Maria': 45, 'chave 3': [2, 3]}\n"
     ]
    }
   ],
   "source": [
    "# Exercício 8\n",
    "\n",
    "dict8 = {}\n",
    "dict8['Eduardo'] = 22\n",
    "print (dict8)\n",
    "dict8['Maria'] = 45\n",
    "print (dict8)\n",
    "dict8['chave 3'] = [2,3]\n",
    "print (dict8)"
   ]
  },
  {
   "cell_type": "code",
   "execution_count": 10,
   "metadata": {},
   "outputs": [],
   "source": [
    "# Exercício 9 - Crie uma lista de 4 elementos. O primeiro elemento deve ser uma string, \n",
    "# o segundo uma tupla de 2 elementos, o terceiro um dcionário com 2 chaves e 2 valores e \n",
    "# o quarto elemento um valor do tipo float.\n",
    "# Imprima a lista."
   ]
  },
  {
   "cell_type": "code",
   "execution_count": 33,
   "metadata": {},
   "outputs": [
    {
     "name": "stdout",
     "output_type": "stream",
     "text": [
      "['Eduardo']\n",
      "['Eduardo', (16, 9)]\n",
      "['Eduardo', (16, 9), {'Elefante': 'mamifero', 'passarinho': 'ave'}]\n",
      "['Eduardo', (16, 9), {'Elefante': 'mamifero', 'passarinho': 'ave'}, 3.14]\n"
     ]
    }
   ],
   "source": [
    "# Exercício 9\n",
    "\n",
    "lista = list()\n",
    "lista.append(\"Eduardo\")\n",
    "print (lista)\n",
    "lista.append((16, 9))\n",
    "print (lista)\n",
    "lista.append({'Elefante':'mamifero', 'passarinho':'ave'})\n",
    "print (lista)\n",
    "lista.append(3.14)\n",
    "print (lista)\n"
   ]
  },
  {
   "cell_type": "code",
   "execution_count": 11,
   "metadata": {},
   "outputs": [],
   "source": [
    "# Exercício 10 - Considere a string abaixo. Imprima na tela apenas os caracteres da posição 1 a 18.\n",
    "frase = 'Cientista de Dados é o profissional mais sexy do século XXI'"
   ]
  },
  {
   "cell_type": "code",
   "execution_count": 21,
   "metadata": {},
   "outputs": [
    {
     "name": "stdout",
     "output_type": "stream",
     "text": [
      "ientista de Dados\n"
     ]
    }
   ],
   "source": [
    "# Exercício 10\n",
    "\n",
    "frase = 'Cientista de Dados é o profissional mais sexy do século XXI'\n",
    "print (frase[1:18])"
   ]
  }
 ],
 "metadata": {
  "kernelspec": {
   "display_name": "Python 3 (ipykernel)",
   "language": "python",
   "name": "python3"
  },
  "language_info": {
   "codemirror_mode": {
    "name": "ipython",
    "version": 3
   },
   "file_extension": ".py",
   "mimetype": "text/x-python",
   "name": "python",
   "nbconvert_exporter": "python",
   "pygments_lexer": "ipython3",
   "version": "3.9.13"
  }
 },
 "nbformat": 4,
 "nbformat_minor": 1
}
